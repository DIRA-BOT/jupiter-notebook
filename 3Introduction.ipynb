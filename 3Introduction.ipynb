{
  "nbformat": 4,
  "nbformat_minor": 0,
  "metadata": {
    "colab": {
      "provenance": []
    },
    "kernelspec": {
      "name": "python3",
      "display_name": "Python 3"
    },
    "language_info": {
      "name": "python"
    }
  },
  "cells": [
    {
      "cell_type": "code",
      "execution_count": null,
      "metadata": {
        "id": "vYH4o8xh1tz1"
      },
      "outputs": [],
      "source": []
    },
    {
      "cell_type": "markdown",
      "source": [
        "## **INTRODUCTION**\n",
        "Jupyter Notebook, formerly known as IPython Notebook, is an open-source web application that allows you to create and share documents that contain live code, equations, visualizations, and narrative text. It is a powerful tool widely used in data science, scientific research, and education.\n",
        "# **list of data science languages**\n",
        "1.Python\n",
        "\n",
        "2.R\n",
        "\n",
        "3.Julia\n",
        "\n",
        "4.SQL\n",
        "\n",
        "# **Data science libraries**\n",
        "1. NumPy\n",
        "\n",
        "2. Pandas\n",
        "\n",
        "3. Matplotlib\n",
        "\n",
        "4. Seaborn\n",
        "5. Tensor flow\n",
        "# **Objectives**\n",
        "* List popular languages for data science\n",
        "* list 4 data science libraries\n",
        "* addition and multiplication of integers\n",
        "## **AUTHOR**\n",
        "Mandira Reang\n",
        "\n"
      ],
      "metadata": {
        "id": "pPaNJij21w8F"
      }
    },
    {
      "cell_type": "markdown",
      "source": [],
      "metadata": {
        "id": "OQvm_X2SFtGj"
      }
    },
    {
      "cell_type": "markdown",
      "source": [
        "|library                 |description\n",
        "-------------------------|--------------------\n",
        "NumPy                    |Numerical computing library for efficient array operations.\n",
        "Pandas                   |Data manipulation and analysis library with a powerful DataFrame object.\n",
        "Matplotlib               |Plotting library for creating static, animated, and interactive visualizations."
      ],
      "metadata": {
        "id": "jn9_OtCJ2XkY"
      }
    },
    {
      "cell_type": "markdown",
      "source": [
        "# Arithmetic Expressions\n",
        "Here are a few examples of arithmetic expressions:\n",
        "\n",
        "Addition: 3 + 5 equals 8.\n",
        "\n",
        "Subtraction: 10 - 4 equals 6.\n",
        "\n",
        "Multiplication: 2 * 6 equals 12.\n",
        "\n",
        "Division: 20 / 5 equals 4."
      ],
      "metadata": {
        "id": "LyxQCl_V-m0t"
      }
    },
    {
      "cell_type": "code",
      "source": [
        "# Multiply two numbers\n",
        "num1 = 5\n",
        "num2 = 10\n",
        "result_multiply = num1 * num2\n",
        "print(\"Multiplication result:\", result_multiply)\n",
        "\n",
        "# Add two numbers\n",
        "num3 = 7\n",
        "num4 = 3\n",
        "result_addition = num3 + num4\n",
        "print(\"Addition result:\", result_addition)"
      ],
      "metadata": {
        "colab": {
          "base_uri": "https://localhost:8080/"
        },
        "id": "-qUS6utkAucm",
        "outputId": "211863df-9cd9-4343-9ddc-eed78e28f062"
      },
      "execution_count": 1,
      "outputs": [
        {
          "output_type": "stream",
          "name": "stdout",
          "text": [
            "Multiplication result: 50\n",
            "Addition result: 10\n"
          ]
        }
      ]
    },
    {
      "cell_type": "code",
      "source": [
        "#convert 10 mins to hours\n",
        "minutes = 10\n",
        "hour= 60\n",
        "result_hours = minutes/hour\n",
        "print(\"result hours\", result_hours)\n",
        "\n"
      ],
      "metadata": {
        "colab": {
          "base_uri": "https://localhost:8080/"
        },
        "id": "j7pYemY_BguR",
        "outputId": "1929727c-e164-48b4-c77f-003780af74eb"
      },
      "execution_count": 8,
      "outputs": [
        {
          "output_type": "stream",
          "name": "stdout",
          "text": [
            "result hours 0.16666666666666666\n"
          ]
        }
      ]
    }
  ]
}